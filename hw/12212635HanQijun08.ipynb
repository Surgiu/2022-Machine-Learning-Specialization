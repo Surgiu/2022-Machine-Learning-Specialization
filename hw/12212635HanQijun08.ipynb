{
 "cells": [
  {
   "cell_type": "code",
   "execution_count": 1,
   "metadata": {},
   "outputs": [],
   "source": [
    "import numpy as np"
   ]
  },
  {
   "cell_type": "code",
   "execution_count": 2,
   "metadata": {},
   "outputs": [],
   "source": [
    "class MCLogisticRegression:\n",
    "    def __init__(self,n_iter,learning_rate,k):\n",
    "        self.n_class = n_iter = n_iter\n",
    "        self.learning_rate = learning_rate\n",
    "        self.n_class = k\n",
    "        self.w = None\n",
    "    \n",
    "    def pre_process(self):\n",
    "        pass\n",
    "    \n",
    "    def loss(self):\n",
    "        pass\n",
    "\n",
    "    def gradient(self):\n",
    "        pass\n",
    "\n",
    "    def gradient_update(self):\n",
    "        pass\n",
    "\n",
    "    def fit(self):\n",
    "        pass\n",
    "\n",
    "    def train(self,features,labels,lr):\n",
    "        pass\n",
    "\n",
    "    def predict(self,sample):\n",
    "        pass\n"
   ]
  },
  {
   "cell_type": "markdown",
   "metadata": {},
   "source": [
    "### Test case:"
   ]
  },
  {
   "cell_type": "code",
   "execution_count": null,
   "metadata": {},
   "outputs": [],
   "source": [
    "data = np.loadtxt('optdigits.tra')\n"
   ]
  }
 ],
 "metadata": {
  "kernelspec": {
   "display_name": "ml",
   "language": "python",
   "name": "python3"
  },
  "language_info": {
   "codemirror_mode": {
    "name": "ipython",
    "version": 3
   },
   "file_extension": ".py",
   "mimetype": "text/x-python",
   "name": "python",
   "nbconvert_exporter": "python",
   "pygments_lexer": "ipython3",
   "version": "3.11.5"
  }
 },
 "nbformat": 4,
 "nbformat_minor": 2
}
