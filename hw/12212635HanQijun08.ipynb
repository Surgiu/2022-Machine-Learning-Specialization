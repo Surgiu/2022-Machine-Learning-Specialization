{
 "cells": [
  {
   "cell_type": "code",
   "execution_count": 236,
   "metadata": {},
   "outputs": [],
   "source": [
    "import numpy as np"
   ]
  },
  {
   "cell_type": "code",
   "execution_count": 237,
   "metadata": {},
   "outputs": [],
   "source": [
    "class MultiClassLogisticRegression:\n",
    "    def __init__(self, lr=0.1, n_iter=1800, epsilon=2*1e-5):\n",
    "        self.learning_rate = lr\n",
    "        self.n_iter = n_iter\n",
    "        self.tolerance = epsilon\n",
    "        self.weights = None #weights is a matrix of shape (n_features+1, K)\n",
    "        self.K = None  #number of classes\n",
    "\n",
    "    def pre_process(self, X):\n",
    "        \"\"\"insert a column of ones to the left of X\"\"\"\n",
    "        return np.hstack((np.ones((X.shape[0], 1)), X))\n",
    "    \n",
    "    softmax = lambda self, z: np.exp(z) / np.sum(np.exp(z), axis=1, keepdims=True)\n",
    "\n",
    "    def encode(self,n_features, y):\n",
    "        \"\"\"return one-of-K labels matrix of y\"\"\"\n",
    "        Y_lables = np.zeros((n_features, self.K))\n",
    "        for i in range(n_features):\n",
    "            Y_lables[i, y[i]] = 1\n",
    "        return Y_lables\n",
    "\n",
    "    loss = lambda self, X, Y: -np.sum(Y * np.log(self.softmax(X)))\n",
    "    \n",
    "    def gradient_descent(self,X,Y):\n",
    "        Y_k = self.softmax(np.dot(X, self.weights))\n",
    "        self.weights -= self.learning_rate * np.dot(X.T, (Y_k - Y))/ X.shape[0]\n",
    "        \n",
    "    def train(self, X, y):\n",
    "        X = self.pre_process(X)\n",
    "        n_samples, n_features = X.shape\n",
    "        self.K = len(np.unique(y))\n",
    "        self.weights = np.random.randn(n_features, self.K)\n",
    "        Y = self.encode(n_samples, y)\n",
    "        for i in range(self.n_iter):\n",
    "            self.gradient_descent(X, Y)\n",
    "            loss = self.loss(np.dot(X, self.weights), Y)\n",
    "            if loss < self.tolerance:\n",
    "                break\n",
    "\n",
    "    def predict(self, X):\n",
    "        X = self.pre_process(X)\n",
    "        return np.argmax(self.softmax(np.dot(X, self.weights)),axis=1)"
   ]
  },
  {
   "cell_type": "markdown",
   "metadata": {},
   "source": [
    "### Test case:"
   ]
  },
  {
   "cell_type": "markdown",
   "metadata": {},
   "source": [
    "##### Train model:"
   ]
  },
  {
   "cell_type": "code",
   "execution_count": 238,
   "metadata": {},
   "outputs": [],
   "source": [
    "def get_data(path):\n",
    "    \"\"\"return features and labels\"\"\"\n",
    "    data = np.loadtxt(path, delimiter=',')\n",
    "    X = data[:, :-1]\n",
    "    y = data[:, -1].astype(int)\n",
    "    return X, y"
   ]
  },
  {
   "cell_type": "code",
   "execution_count": 239,
   "metadata": {},
   "outputs": [],
   "source": [
    "training_set = get_data('optdigits.tra')\n",
    "X = training_set[0]\n",
    "y = training_set[1]\n",
    "model = MultiClassLogisticRegression()\n",
    "model.train(X, y)"
   ]
  },
  {
   "cell_type": "markdown",
   "metadata": {},
   "source": [
    "##### Test model:"
   ]
  },
  {
   "cell_type": "code",
   "execution_count": 240,
   "metadata": {},
   "outputs": [
    {
     "name": "stdout",
     "output_type": "stream",
     "text": [
      "accuracy =  0.9321090706733445\n"
     ]
    }
   ],
   "source": [
    "X_test1,y_test1 = get_data('optdigits.tes')\n",
    "y_pred1 = model.predict(X_test1)\n",
    "print(\"accuracy = \", np.mean(y_pred1 == y_test1))"
   ]
  }
 ],
 "metadata": {
  "kernelspec": {
   "display_name": "ml",
   "language": "python",
   "name": "python3"
  },
  "language_info": {
   "codemirror_mode": {
    "name": "ipython",
    "version": 3
   },
   "file_extension": ".py",
   "mimetype": "text/x-python",
   "name": "python",
   "nbconvert_exporter": "python",
   "pygments_lexer": "ipython3",
   "version": "3.11.5"
  }
 },
 "nbformat": 4,
 "nbformat_minor": 2
}
