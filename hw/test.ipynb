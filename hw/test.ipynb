{
 "cells": [
  {
   "cell_type": "code",
   "execution_count": 1,
   "metadata": {},
   "outputs": [],
   "source": [
    "import numpy as np\n",
    "import pandas as pd\n",
    "import matplotlib.pyplot as plt\n",
    "from sklearn import datasets\n",
    "%matplotlib inline"
   ]
  },
  {
   "cell_type": "code",
   "execution_count": 8,
   "metadata": {},
   "outputs": [
    {
     "data": {
      "text/plain": [
       "0.0004714045207910317"
      ]
     },
     "execution_count": 8,
     "metadata": {},
     "output_type": "execute_result"
    }
   ],
   "source": [
    "0.1/150/np.sqrt(2)"
   ]
  },
  {
   "cell_type": "code",
   "execution_count": 11,
   "metadata": {},
   "outputs": [
    {
     "data": {
      "text/plain": [
       "102.48843500136309"
      ]
     },
     "execution_count": 11,
     "metadata": {},
     "output_type": "execute_result"
    }
   ],
   "source": [
    "20*np.log(8.74/0.052)"
   ]
  },
  {
   "cell_type": "code",
   "execution_count": 2,
   "metadata": {},
   "outputs": [
    {
     "name": "stdout",
     "output_type": "stream",
     "text": [
      "{'1': {'1': '3'}, '2': {'2': {'1': {'1': {'1': {'1': '2'}, '2': {'2': '2'}, '3': {'3': {'1': {'1': '3'}, '2': {'2': '2'}}}}}, '2': {'2': {'1': {'1': '1'}, '2': {'2': {'1': {'1': '1'}, '2': {'2': '3'}, '3': {'3': '3'}}}}}}}}\n"
     ]
    }
   ],
   "source": [
    "class DecisionTree:\n",
    "    def __init__(self):\n",
    "        self.tree = {}\n",
    "\n",
    "    # 计算信息熵\n",
    "    def entropy(self, data):\n",
    "        unique_values, counts = np.unique(data, return_counts=True)\n",
    "        probs = counts / len(data)\n",
    "        entropy = 0\n",
    "        for prob in probs:\n",
    "            if prob > 0:\n",
    "                entropy -= prob * np.log2(prob)\n",
    "        return entropy\n",
    "\n",
    "    # 计算信息增益\n",
    "    def information_gain(self, feature_data, target_data):\n",
    "        entropy_before = self.entropy(target_data)\n",
    "        entropies_after = []\n",
    "        for value in np.unique(feature_data):\n",
    "            mask = (feature_data == value)\n",
    "            entropy_after = self.entropy(target_data[mask])\n",
    "            entropies_after.append(entropy_after)\n",
    "        return entropy_before - np.mean(entropies_after)\n",
    "\n",
    "    # 基于信息增益选择最优特征\n",
    "    def choose_best_feature(self, features_data, target_data):\n",
    "        best_gain = 0\n",
    "        best_feature_index = None\n",
    "        num_features = len(features_data[0])\n",
    "        for i in range(num_features):\n",
    "            gain = self.information_gain(features_data[:, i], target_data)\n",
    "            if gain > best_gain:\n",
    "                best_gain = gain\n",
    "                best_feature_index = i\n",
    "        return best_feature_index\n",
    "\n",
    "    # 构建决策树\n",
    "    def build_tree(self, features_data, target_data):\n",
    "        best_feature_index = self.choose_best_feature(features_data, target_data)\n",
    "        if best_feature_index is not None:\n",
    "            tree = {}\n",
    "            unique_values = np.unique(features_data[:, best_feature_index])\n",
    "            for value in unique_values:\n",
    "                mask = (features_data[:, best_feature_index] == value)\n",
    "                sub_target_data = target_data[mask]\n",
    "                sub_features_data = features_data[mask]\n",
    "                sub_tree = {}\n",
    "                sub_tree[value] = self.build_tree(sub_features_data, sub_target_data)\n",
    "                tree[value] = sub_tree\n",
    "        else:\n",
    "            mode_value, _ = np.unique(target_data, return_counts=True)\n",
    "            tree = mode_value[0]\n",
    "        return tree\n",
    "\n",
    "# 测试样例\n",
    "dtree = DecisionTree()\n",
    "original_data = np.loadtxt('lenses.data',dtype='str')\n",
    "features_data = original_data[:,1:-1]\n",
    "target_data = original_data[:,-1]\n",
    "tree = dtree.build_tree(features_data, target_data)\n",
    "print(tree)"
   ]
  },
  {
   "cell_type": "code",
   "execution_count": null,
   "metadata": {},
   "outputs": [],
   "source": []
  }
 ],
 "metadata": {
  "kernelspec": {
   "display_name": "ml",
   "language": "python",
   "name": "python3"
  },
  "language_info": {
   "codemirror_mode": {
    "name": "ipython",
    "version": 3
   },
   "file_extension": ".py",
   "mimetype": "text/x-python",
   "name": "python",
   "nbconvert_exporter": "python",
   "pygments_lexer": "ipython3",
   "version": "3.11.5"
  }
 },
 "nbformat": 4,
 "nbformat_minor": 2
}
