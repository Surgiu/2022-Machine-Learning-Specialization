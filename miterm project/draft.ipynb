{
 "cells": [
  {
   "cell_type": "code",
   "execution_count": 1,
   "metadata": {},
   "outputs": [],
   "source": [
    "import numpy as np"
   ]
  },
  {
   "cell_type": "code",
   "execution_count": 2,
   "metadata": {},
   "outputs": [
    {
     "name": "stdout",
     "output_type": "stream",
     "text": [
      "[[ 4 10 18]\n",
      " [ 7 16 27]]\n"
     ]
    }
   ],
   "source": [
    "arr1 = np.array([1, 2, 3])\n",
    "arr2 = np.array([[4, 5, 6], [7, 8, 9]])\n",
    "arr3 = arr1*arr2\n",
    "print(arr3)"
   ]
  },
  {
   "cell_type": "code",
   "execution_count": 3,
   "metadata": {},
   "outputs": [
    {
     "name": "stdout",
     "output_type": "stream",
     "text": [
      "[[1 2 3 4 5 6 7 8 9]]\n"
     ]
    }
   ],
   "source": [
    "a = np.array([[1, 2, 3], [4, 5, 6], [7, 8, 9]])\n",
    "b = a.reshape(1, -1)\n",
    "print(b)"
   ]
  },
  {
   "cell_type": "code",
   "execution_count": 5,
   "metadata": {},
   "outputs": [],
   "source": [
    "class MultiLayerPerceptron:\n",
    "    def __init__(self, layer_dims, learning_rate=0.01):\n",
    "        self.layer_dims = layer_dims\n",
    "        self.learning_rate = learning_rate\n",
    "        self.parameters = {}\n",
    "        self.caches = []\n",
    "        \n",
    "        # 初始化参数\n",
    "        for l in range(1, len(layer_dims)):\n",
    "            self.parameters[f\"W{l}\"] = np.random.randn(layer_dims[l], layer_dims[l-1]) * 0.01\n",
    "            self.parameters[f\"b{l}\"] = np.zeros((layer_dims[l], 1))\n",
    "    \n",
    "    def relu(self, Z):\n",
    "        return np.maximum(0, Z)\n",
    "    \n",
    "    def sigmoid(self, Z):\n",
    "        return 1 / (1 + np.exp(-Z))\n",
    "    \n",
    "    def sigmoid_derivative(self, A):\n",
    "        return A * (1 - A)\n",
    "    \n",
    "    def relu_derivative(self, Z):\n",
    "        return np.where(Z > 0, 1, 0)\n",
    "    \n",
    "    def forward_activation(self, A_prev, W, b, activation):\n",
    "        Z = np.dot(W, A_prev) + b\n",
    "        if activation == \"relu\":\n",
    "            A = self.relu(Z)\n",
    "        elif activation == \"sigmoid\":\n",
    "            A = self.sigmoid(Z)\n",
    "        cache = (A_prev, W, b, Z)\n",
    "        return A, cache\n",
    "    \n",
    "    def forward_propagation(self, X):\n",
    "        A = X\n",
    "        for l in range(1, len(self.layer_dims)):\n",
    "            A_prev = A\n",
    "            A, cache = self.forward_activation(A_prev, self.parameters[f\"W{l}\"], self.parameters[f\"b{l}\"], \"relu\" if l < len(self.layer_dims) - 1 else \"sigmoid\")\n",
    "            self.caches.append(cache)\n",
    "        return A\n",
    "    \n",
    "    def compute_loss(self, Y, AL):\n",
    "        m = Y.shape[1]\n",
    "        loss = -1/m * (np.dot(Y, np.log(AL).T) + np.dot(1-Y, np.log(1-AL).T))\n",
    "        return np.squeeze(loss)\n",
    "    \n",
    "    def backward_activation(self, dA, cache, activation):\n",
    "        A_prev, W, b, Z = cache\n",
    "        m = A_prev.shape[1]\n",
    "        \n",
    "        if activation == \"relu\":\n",
    "            dZ = dA * self.relu_derivative(Z)\n",
    "        elif activation == \"sigmoid\":\n",
    "            dZ = dA * self.sigmoid_derivative(A_prev)\n",
    "        \n",
    "        dW = 1/m * np.dot(dZ, A_prev.T)\n",
    "        db = 1/m * np.sum(dZ, axis=1, keepdims=True)\n",
    "        dA_prev = np.dot(W.T, dZ)\n",
    "        \n",
    "        return dA_prev, dW, db\n",
    "    \n",
    "    def backward_propagation(self, Y):\n",
    "        grads = {}\n",
    "        m = Y.shape[1]\n",
    "        L = len(self.layer_dims) - 1\n",
    "        AL = self.caches[-1][0]\n",
    "        dAL = - (np.divide(Y, AL) - np.divide(1 - Y, 1 - AL))\n",
    "        current_cache = self.caches[-1]\n",
    "        grads[f\"dA{L-1}\"], grads[f\"dW{L}\"], grads[f\"db{L}\"] = self.backward_activation(dAL, current_cache, \"sigmoid\")\n",
    "        \n",
    "        for l in reversed(range(L-1)):\n",
    "            current_cache = self.caches[l]\n",
    "            dA_prev_temp, dW_temp, db_temp = self.backward_activation(grads[f\"dA{l+1}\"], current_cache, \"relu\")\n",
    "            grads[f\"dA{l}\"] = dA_prev_temp\n",
    "            grads[f\"dW{l+1}\"] = dW_temp\n",
    "            grads[f\"db{l+1}\"] = db_temp\n",
    "        \n",
    "        for l in range(1, L+1):\n",
    "            self.parameters[f\"W{l}\"] -= self.learning_rate * grads[f\"dW{l}\"]\n",
    "            self.parameters[f\"b{l}\"] -= self.learning_rate * grads[f\"db{l}\"]\n",
    "            \n",
    "    def train(self, X, Y, epochs=1000):\n",
    "        for i in range(epochs):\n",
    "            AL = self.forward_propagation(X)\n",
    "            loss = self.compute_loss(Y, AL)\n",
    "            self.backward_propagation(Y)\n",
    "            if i % 100 == 0:\n",
    "                print(f'Epoch {i}, Loss: {loss}')\n",
    "    \n",
    "    def predict(self, X):\n",
    "        AL = self.forward_propagation(X)\n",
    "        return np.round(AL)"
   ]
  },
  {
   "cell_type": "code",
   "execution_count": 6,
   "metadata": {},
   "outputs": [
    {
     "name": "stderr",
     "output_type": "stream",
     "text": [
      "/tmp/ipykernel_18379/998472037.py:69: RuntimeWarning: divide by zero encountered in divide\n",
      "  dAL = - (np.divide(Y, AL) - np.divide(1 - Y, 1 - AL))\n",
      "/tmp/ipykernel_18379/998472037.py:69: RuntimeWarning: invalid value encountered in divide\n",
      "  dAL = - (np.divide(Y, AL) - np.divide(1 - Y, 1 - AL))\n",
      "/tmp/ipykernel_18379/998472037.py:56: RuntimeWarning: invalid value encountered in multiply\n",
      "  dZ = dA * self.sigmoid_derivative(A_prev)\n"
     ]
    },
    {
     "ename": "ValueError",
     "evalue": "shapes (3,1) and (3,500) not aligned: 1 (dim 1) != 3 (dim 0)",
     "output_type": "error",
     "traceback": [
      "\u001b[0;31m---------------------------------------------------------------------------\u001b[0m",
      "\u001b[0;31mValueError\u001b[0m                                Traceback (most recent call last)",
      "\u001b[1;32m/home/sj/ml_project/miterm project/draft.ipynb 单元格 5\u001b[0m line \u001b[0;36m1\n\u001b[1;32m      <a href='vscode-notebook-cell://wsl%2Bubuntu/home/sj/ml_project/miterm%20project/draft.ipynb#W5sdnNjb2RlLXJlbW90ZQ%3D%3D?line=6'>7</a>\u001b[0m model \u001b[39m=\u001b[39m MultiLayerPerceptron(layer_dims\u001b[39m=\u001b[39m[\u001b[39m2\u001b[39m, \u001b[39m4\u001b[39m, \u001b[39m3\u001b[39m, \u001b[39m1\u001b[39m], learning_rate\u001b[39m=\u001b[39m\u001b[39m0.01\u001b[39m)\n\u001b[1;32m      <a href='vscode-notebook-cell://wsl%2Bubuntu/home/sj/ml_project/miterm%20project/draft.ipynb#W5sdnNjb2RlLXJlbW90ZQ%3D%3D?line=8'>9</a>\u001b[0m \u001b[39m# 训练模型\u001b[39;00m\n\u001b[0;32m---> <a href='vscode-notebook-cell://wsl%2Bubuntu/home/sj/ml_project/miterm%20project/draft.ipynb#W5sdnNjb2RlLXJlbW90ZQ%3D%3D?line=9'>10</a>\u001b[0m model\u001b[39m.\u001b[39;49mtrain(X, Y, epochs\u001b[39m=\u001b[39;49m\u001b[39m2000\u001b[39;49m)\n\u001b[1;32m     <a href='vscode-notebook-cell://wsl%2Bubuntu/home/sj/ml_project/miterm%20project/draft.ipynb#W5sdnNjb2RlLXJlbW90ZQ%3D%3D?line=11'>12</a>\u001b[0m \u001b[39m# 预测结果\u001b[39;00m\n\u001b[1;32m     <a href='vscode-notebook-cell://wsl%2Bubuntu/home/sj/ml_project/miterm%20project/draft.ipynb#W5sdnNjb2RlLXJlbW90ZQ%3D%3D?line=12'>13</a>\u001b[0m predictions \u001b[39m=\u001b[39m model\u001b[39m.\u001b[39mpredict(X)\n",
      "\u001b[1;32m/home/sj/ml_project/miterm project/draft.ipynb 单元格 5\u001b[0m line \u001b[0;36m8\n\u001b[1;32m     <a href='vscode-notebook-cell://wsl%2Bubuntu/home/sj/ml_project/miterm%20project/draft.ipynb#W5sdnNjb2RlLXJlbW90ZQ%3D%3D?line=85'>86</a>\u001b[0m AL \u001b[39m=\u001b[39m \u001b[39mself\u001b[39m\u001b[39m.\u001b[39mforward_propagation(X)\n\u001b[1;32m     <a href='vscode-notebook-cell://wsl%2Bubuntu/home/sj/ml_project/miterm%20project/draft.ipynb#W5sdnNjb2RlLXJlbW90ZQ%3D%3D?line=86'>87</a>\u001b[0m loss \u001b[39m=\u001b[39m \u001b[39mself\u001b[39m\u001b[39m.\u001b[39mcompute_loss(Y, AL)\n\u001b[0;32m---> <a href='vscode-notebook-cell://wsl%2Bubuntu/home/sj/ml_project/miterm%20project/draft.ipynb#W5sdnNjb2RlLXJlbW90ZQ%3D%3D?line=87'>88</a>\u001b[0m \u001b[39mself\u001b[39;49m\u001b[39m.\u001b[39;49mbackward_propagation(Y)\n\u001b[1;32m     <a href='vscode-notebook-cell://wsl%2Bubuntu/home/sj/ml_project/miterm%20project/draft.ipynb#W5sdnNjb2RlLXJlbW90ZQ%3D%3D?line=88'>89</a>\u001b[0m \u001b[39mif\u001b[39;00m i \u001b[39m%\u001b[39m \u001b[39m100\u001b[39m \u001b[39m==\u001b[39m \u001b[39m0\u001b[39m:\n\u001b[1;32m     <a href='vscode-notebook-cell://wsl%2Bubuntu/home/sj/ml_project/miterm%20project/draft.ipynb#W5sdnNjb2RlLXJlbW90ZQ%3D%3D?line=89'>90</a>\u001b[0m     \u001b[39mprint\u001b[39m(\u001b[39mf\u001b[39m\u001b[39m'\u001b[39m\u001b[39mEpoch \u001b[39m\u001b[39m{\u001b[39;00mi\u001b[39m}\u001b[39;00m\u001b[39m, Loss: \u001b[39m\u001b[39m{\u001b[39;00mloss\u001b[39m}\u001b[39;00m\u001b[39m'\u001b[39m)\n",
      "\u001b[1;32m/home/sj/ml_project/miterm project/draft.ipynb 单元格 5\u001b[0m line \u001b[0;36m7\n\u001b[1;32m     <a href='vscode-notebook-cell://wsl%2Bubuntu/home/sj/ml_project/miterm%20project/draft.ipynb#W5sdnNjb2RlLXJlbW90ZQ%3D%3D?line=68'>69</a>\u001b[0m dAL \u001b[39m=\u001b[39m \u001b[39m-\u001b[39m (np\u001b[39m.\u001b[39mdivide(Y, AL) \u001b[39m-\u001b[39m np\u001b[39m.\u001b[39mdivide(\u001b[39m1\u001b[39m \u001b[39m-\u001b[39m Y, \u001b[39m1\u001b[39m \u001b[39m-\u001b[39m AL))\n\u001b[1;32m     <a href='vscode-notebook-cell://wsl%2Bubuntu/home/sj/ml_project/miterm%20project/draft.ipynb#W5sdnNjb2RlLXJlbW90ZQ%3D%3D?line=69'>70</a>\u001b[0m current_cache \u001b[39m=\u001b[39m \u001b[39mself\u001b[39m\u001b[39m.\u001b[39mcaches[\u001b[39m-\u001b[39m\u001b[39m1\u001b[39m]\n\u001b[0;32m---> <a href='vscode-notebook-cell://wsl%2Bubuntu/home/sj/ml_project/miterm%20project/draft.ipynb#W5sdnNjb2RlLXJlbW90ZQ%3D%3D?line=70'>71</a>\u001b[0m grads[\u001b[39mf\u001b[39m\u001b[39m\"\u001b[39m\u001b[39mdA\u001b[39m\u001b[39m{\u001b[39;00mL\u001b[39m-\u001b[39m\u001b[39m1\u001b[39m\u001b[39m}\u001b[39;00m\u001b[39m\"\u001b[39m], grads[\u001b[39mf\u001b[39m\u001b[39m\"\u001b[39m\u001b[39mdW\u001b[39m\u001b[39m{\u001b[39;00mL\u001b[39m}\u001b[39;00m\u001b[39m\"\u001b[39m], grads[\u001b[39mf\u001b[39m\u001b[39m\"\u001b[39m\u001b[39mdb\u001b[39m\u001b[39m{\u001b[39;00mL\u001b[39m}\u001b[39;00m\u001b[39m\"\u001b[39m] \u001b[39m=\u001b[39m \u001b[39mself\u001b[39;49m\u001b[39m.\u001b[39;49mbackward_activation(dAL, current_cache, \u001b[39m\"\u001b[39;49m\u001b[39msigmoid\u001b[39;49m\u001b[39m\"\u001b[39;49m)\n\u001b[1;32m     <a href='vscode-notebook-cell://wsl%2Bubuntu/home/sj/ml_project/miterm%20project/draft.ipynb#W5sdnNjb2RlLXJlbW90ZQ%3D%3D?line=72'>73</a>\u001b[0m \u001b[39mfor\u001b[39;00m l \u001b[39min\u001b[39;00m \u001b[39mreversed\u001b[39m(\u001b[39mrange\u001b[39m(L\u001b[39m-\u001b[39m\u001b[39m1\u001b[39m)):\n\u001b[1;32m     <a href='vscode-notebook-cell://wsl%2Bubuntu/home/sj/ml_project/miterm%20project/draft.ipynb#W5sdnNjb2RlLXJlbW90ZQ%3D%3D?line=73'>74</a>\u001b[0m     current_cache \u001b[39m=\u001b[39m \u001b[39mself\u001b[39m\u001b[39m.\u001b[39mcaches[l]\n",
      "\u001b[1;32m/home/sj/ml_project/miterm project/draft.ipynb 单元格 5\u001b[0m line \u001b[0;36m6\n\u001b[1;32m     <a href='vscode-notebook-cell://wsl%2Bubuntu/home/sj/ml_project/miterm%20project/draft.ipynb#W5sdnNjb2RlLXJlbW90ZQ%3D%3D?line=57'>58</a>\u001b[0m dW \u001b[39m=\u001b[39m \u001b[39m1\u001b[39m\u001b[39m/\u001b[39mm \u001b[39m*\u001b[39m np\u001b[39m.\u001b[39mdot(dZ, A_prev\u001b[39m.\u001b[39mT)\n\u001b[1;32m     <a href='vscode-notebook-cell://wsl%2Bubuntu/home/sj/ml_project/miterm%20project/draft.ipynb#W5sdnNjb2RlLXJlbW90ZQ%3D%3D?line=58'>59</a>\u001b[0m db \u001b[39m=\u001b[39m \u001b[39m1\u001b[39m\u001b[39m/\u001b[39mm \u001b[39m*\u001b[39m np\u001b[39m.\u001b[39msum(dZ, axis\u001b[39m=\u001b[39m\u001b[39m1\u001b[39m, keepdims\u001b[39m=\u001b[39m\u001b[39mTrue\u001b[39;00m)\n\u001b[0;32m---> <a href='vscode-notebook-cell://wsl%2Bubuntu/home/sj/ml_project/miterm%20project/draft.ipynb#W5sdnNjb2RlLXJlbW90ZQ%3D%3D?line=59'>60</a>\u001b[0m dA_prev \u001b[39m=\u001b[39m np\u001b[39m.\u001b[39;49mdot(W\u001b[39m.\u001b[39;49mT, dZ)\n\u001b[1;32m     <a href='vscode-notebook-cell://wsl%2Bubuntu/home/sj/ml_project/miterm%20project/draft.ipynb#W5sdnNjb2RlLXJlbW90ZQ%3D%3D?line=61'>62</a>\u001b[0m \u001b[39mreturn\u001b[39;00m dA_prev, dW, db\n",
      "\u001b[0;31mValueError\u001b[0m: shapes (3,1) and (3,500) not aligned: 1 (dim 1) != 3 (dim 0)"
     ]
    }
   ],
   "source": [
    "# 生成示例数据\n",
    "np.random.seed(0)\n",
    "X = np.random.randn(2, 500)\n",
    "Y = np.array([0 if x[0]**2 + x[1]**2 < 1 else 1 for x in X.T]).reshape(1, -1)\n",
    "\n",
    "# 创建神经网络模型\n",
    "model = MultiLayerPerceptron(layer_dims=[2, 4, 3, 1], learning_rate=0.01)\n",
    "\n",
    "# 训练模型\n",
    "model.train(X, Y, epochs=2000)\n",
    "\n",
    "# 预测结果\n",
    "predictions = model.predict(X)\n",
    "print(\"Accuracy: \" + str(np.mean(predictions == Y)))\n"
   ]
  },
  {
   "cell_type": "code",
   "execution_count": null,
   "metadata": {},
   "outputs": [],
   "source": []
  }
 ],
 "metadata": {
  "kernelspec": {
   "display_name": "ml",
   "language": "python",
   "name": "python3"
  },
  "language_info": {
   "codemirror_mode": {
    "name": "ipython",
    "version": 3
   },
   "file_extension": ".py",
   "mimetype": "text/x-python",
   "name": "python",
   "nbconvert_exporter": "python",
   "pygments_lexer": "ipython3",
   "version": "3.11.5"
  }
 },
 "nbformat": 4,
 "nbformat_minor": 2
}
