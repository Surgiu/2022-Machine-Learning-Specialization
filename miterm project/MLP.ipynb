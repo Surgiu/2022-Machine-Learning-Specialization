{
 "cells": [
  {
   "cell_type": "code",
   "execution_count": 1,
   "metadata": {},
   "outputs": [],
   "source": [
    "import numpy as np"
   ]
  },
  {
   "cell_type": "code",
   "execution_count": null,
   "metadata": {},
   "outputs": [],
   "source": [
    "class MLP:\n",
    "    \"\"\"This is a single-layer MLP for binary classification problem.\n",
    "\n",
    "    hyper-parameters:\n",
    "        learning_rate:\n",
    "        n_iter:\n",
    "        tolerance:\n",
    "        n_neural:\n",
    "    \"\"\"\n",
    "    def __init__(self,n_iter,lr,epsilon,n_neural):\n",
    "        self.learning_rate = lr\n",
    "        self.n_iter = n_iter\n",
    "        self.tolerance = epsilon\n",
    "        self.n_neural = n_neural\n",
    "        self.W = None #each row of W represents a weights vector of a neuron in the hidden layer\n",
    "        self.w = np.random.randn(1,n_neural)#weights of the output neuron\n",
    "\n",
    "    ReLU = lambda self, x : np.max(0,x)\n",
    "\n",
    "    d_ReLU = lambda self,x: 1 * (x>0)\n",
    "\n",
    "    sigmoid = lambda self, x : 1/(1+np.exp(-x))\n",
    "\n",
    "    d_sigmoid = lambda self,x: self.sigmoid(x)*(1-self.sigmoid(x))\n",
    "\n",
    "    def cross_entropy(self,o,t):\n",
    "        return -t*np.log(o)-(1-t)*np.log(1-o)\n",
    "\n",
    "    def pre_process(self,X):\n",
    "        return np.hstack(np.ones((X.shape[0],1)),X)\n",
    "\n",
    "    def forward(self,x):\n",
    "        \"\"\"forward propagation\"\"\"\n",
    "        h = self.ReLU(self.W@x)\n",
    "        return self.sigmoid(self.w@h)\n",
    "    \n",
    "    def backward(self,t,x):\n",
    "        \"\"\"backward propagation\"\"\"\n",
    "        h = self.ReLU(self.W@x)\n",
    "        y = self.sigmoid(self.w@h)\n",
    "        delta_w = (y-t)*h\n",
    "        delta_W = (y-t)*self.w*self.d_ReLU(self.W@x)\n",
    "        return delta_w,delta_W\n",
    "\n",
    "    "
   ]
  }
 ],
 "metadata": {
  "kernelspec": {
   "display_name": "ml",
   "language": "python",
   "name": "python3"
  },
  "language_info": {
   "codemirror_mode": {
    "name": "ipython",
    "version": 3
   },
   "file_extension": ".py",
   "mimetype": "text/x-python",
   "name": "python",
   "nbconvert_exporter": "python",
   "pygments_lexer": "ipython3",
   "version": "3.11.5"
  }
 },
 "nbformat": 4,
 "nbformat_minor": 2
}
